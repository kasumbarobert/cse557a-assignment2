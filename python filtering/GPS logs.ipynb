{
 "cells": [
  {
   "cell_type": "code",
   "execution_count": 96,
   "id": "32024378",
   "metadata": {},
   "outputs": [],
   "source": [
    "import pandas as pd\n",
    "import re\n",
    "from dateutil.parser import parse\n",
    "import datetime "
   ]
  },
  {
   "cell_type": "code",
   "execution_count": 97,
   "id": "85a57bc0",
   "metadata": {},
   "outputs": [],
   "source": [
    "gps = pd.read_csv(\"../assignment2/gps.csv\", encoding='cp1252')"
   ]
  },
  {
   "cell_type": "code",
   "execution_count": 98,
   "id": "e4d5b27d",
   "metadata": {},
   "outputs": [],
   "source": [
    "gps[\"lat\"]= round(gps[\"lat\"],5)\n",
    "gps[\"long\"]= round(gps[\"long\"],5)"
   ]
  },
  {
   "cell_type": "code",
   "execution_count": 99,
   "id": "6ea1eab2",
   "metadata": {},
   "outputs": [
    {
     "data": {
      "text/plain": [
       "(685169, 4)"
      ]
     },
     "execution_count": 99,
     "metadata": {},
     "output_type": "execute_result"
    }
   ],
   "source": [
    "gps.shape"
   ]
  },
  {
   "cell_type": "code",
   "execution_count": 100,
   "id": "ba92db02",
   "metadata": {},
   "outputs": [],
   "source": [
    "gps[\"Timestamp\"] = gps.apply(lambda x:datetime.datetime.strptime(x[\"Timestamp\"], '%m/%d/%Y %H:%M:%S').strftime('%m/%d/%Y %H:%M') , axis=1)"
   ]
  },
  {
   "cell_type": "code",
   "execution_count": 101,
   "id": "cc2ad035",
   "metadata": {},
   "outputs": [],
   "source": [
    "locations_by_minute = gps.groupby([\"Timestamp\",\"id\"]).agg(\"mean\").reset_index()\n",
    "locations_by_minute[\"date\"] = locations_by_minute.apply(lambda x:datetime.datetime.strptime(x[\"Timestamp\"], '%m/%d/%Y %H:%M').strftime('%m/%d/%Y') , axis=1)"
   ]
  },
  {
   "cell_type": "code",
   "execution_count": null,
   "id": "38a043b9",
   "metadata": {},
   "outputs": [],
   "source": []
  },
  {
   "cell_type": "code",
   "execution_count": 102,
   "id": "63d6f0f9",
   "metadata": {},
   "outputs": [],
   "source": [
    "locations_by_minute.to_csv(\"../data/locations_by_minute.csv\")"
   ]
  },
  {
   "cell_type": "code",
   "execution_count": 104,
   "id": "e3595be0",
   "metadata": {},
   "outputs": [
    {
     "ename": "SyntaxError",
     "evalue": "EOL while scanning string literal (2157005265.py, line 1)",
     "output_type": "error",
     "traceback": [
      "\u001b[0;36m  File \u001b[0;32m\"/var/folders/3c/_0y9cx353xn6v72xlqkb219h0000gn/T/ipykernel_14507/2157005265.py\"\u001b[0;36m, line \u001b[0;32m1\u001b[0m\n\u001b[0;31m    \"\u001b[0m\n\u001b[0m     ^\u001b[0m\n\u001b[0;31mSyntaxError\u001b[0m\u001b[0;31m:\u001b[0m EOL while scanning string literal\n"
     ]
    }
   ],
   "source": []
  }
 ],
 "metadata": {
  "kernelspec": {
   "display_name": "ipy-jupyter-venv3.9",
   "language": "python",
   "name": "myipy_jupter_env3.9"
  },
  "language_info": {
   "codemirror_mode": {
    "name": "ipython",
    "version": 3
   },
   "file_extension": ".py",
   "mimetype": "text/x-python",
   "name": "python",
   "nbconvert_exporter": "python",
   "pygments_lexer": "ipython3",
   "version": "3.9.7"
  }
 },
 "nbformat": 4,
 "nbformat_minor": 5
}
