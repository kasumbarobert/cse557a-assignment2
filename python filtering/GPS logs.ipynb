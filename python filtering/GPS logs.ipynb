{
 "cells": [
  {
   "cell_type": "code",
   "execution_count": 19,
   "id": "32024378",
   "metadata": {},
   "outputs": [],
   "source": [
    "import pandas as pd\n",
    "import re\n",
    "from dateutil.parser import parse\n",
    "import datetime "
   ]
  },
  {
   "cell_type": "code",
   "execution_count": 20,
   "id": "85a57bc0",
   "metadata": {},
   "outputs": [],
   "source": [
    "gps = pd.read_csv(\"../assignment2/gps.csv\", encoding='cp1252')"
   ]
  },
  {
   "cell_type": "code",
   "execution_count": null,
   "id": "e4d5b27d",
   "metadata": {},
   "outputs": [],
   "source": []
  },
  {
   "cell_type": "code",
   "execution_count": 21,
   "id": "6ea1eab2",
   "metadata": {},
   "outputs": [
    {
     "data": {
      "text/plain": [
       "(685169, 4)"
      ]
     },
     "execution_count": 21,
     "metadata": {},
     "output_type": "execute_result"
    }
   ],
   "source": [
    "gps.shape"
   ]
  },
  {
   "cell_type": "code",
   "execution_count": 22,
   "id": "ba92db02",
   "metadata": {},
   "outputs": [],
   "source": [
    "gps[\"Timestamp\"] = gps.apply(lambda x:datetime.datetime.strptime(x[\"Timestamp\"], '%m/%d/%Y %H:%M:%S').strftime('%m/%d/%Y %H:%M') , axis=1)"
   ]
  },
  {
   "cell_type": "code",
   "execution_count": 23,
   "id": "cc2ad035",
   "metadata": {},
   "outputs": [],
   "source": [
    "locations_by_minute = gps.groupby([\"Timestamp\",\"id\"]).agg(\"mean\").reset_index()\n",
    "locations_by_minute[\"date\"] = locations_by_minute.apply(lambda x:datetime.datetime.strptime(x[\"Timestamp\"], '%m/%d/%Y %H:%M').strftime('%m/%d/%Y') , axis=1)"
   ]
  },
  {
   "cell_type": "code",
   "execution_count": 24,
   "id": "38a043b9",
   "metadata": {},
   "outputs": [
    {
     "data": {
      "text/html": [
       "<div>\n",
       "<style scoped>\n",
       "    .dataframe tbody tr th:only-of-type {\n",
       "        vertical-align: middle;\n",
       "    }\n",
       "\n",
       "    .dataframe tbody tr th {\n",
       "        vertical-align: top;\n",
       "    }\n",
       "\n",
       "    .dataframe thead th {\n",
       "        text-align: right;\n",
       "    }\n",
       "</style>\n",
       "<table border=\"1\" class=\"dataframe\">\n",
       "  <thead>\n",
       "    <tr style=\"text-align: right;\">\n",
       "      <th></th>\n",
       "      <th>Timestamp</th>\n",
       "      <th>id</th>\n",
       "      <th>lat</th>\n",
       "      <th>long</th>\n",
       "      <th>date</th>\n",
       "    </tr>\n",
       "  </thead>\n",
       "  <tbody>\n",
       "    <tr>\n",
       "      <th>0</th>\n",
       "      <td>01/06/2014 06:28</td>\n",
       "      <td>35</td>\n",
       "      <td>36.074791</td>\n",
       "      <td>24.873310</td>\n",
       "      <td>01/06/2014</td>\n",
       "    </tr>\n",
       "    <tr>\n",
       "      <th>1</th>\n",
       "      <td>01/06/2014 06:29</td>\n",
       "      <td>35</td>\n",
       "      <td>36.071204</td>\n",
       "      <td>24.871683</td>\n",
       "      <td>01/06/2014</td>\n",
       "    </tr>\n",
       "    <tr>\n",
       "      <th>2</th>\n",
       "      <td>01/06/2014 06:30</td>\n",
       "      <td>35</td>\n",
       "      <td>36.067808</td>\n",
       "      <td>24.872183</td>\n",
       "      <td>01/06/2014</td>\n",
       "    </tr>\n",
       "    <tr>\n",
       "      <th>3</th>\n",
       "      <td>01/06/2014 06:33</td>\n",
       "      <td>4</td>\n",
       "      <td>36.076730</td>\n",
       "      <td>24.870998</td>\n",
       "      <td>01/06/2014</td>\n",
       "    </tr>\n",
       "    <tr>\n",
       "      <th>4</th>\n",
       "      <td>01/06/2014 06:33</td>\n",
       "      <td>35</td>\n",
       "      <td>36.067537</td>\n",
       "      <td>24.873311</td>\n",
       "      <td>01/06/2014</td>\n",
       "    </tr>\n",
       "    <tr>\n",
       "      <th>...</th>\n",
       "      <td>...</td>\n",
       "      <td>...</td>\n",
       "      <td>...</td>\n",
       "      <td>...</td>\n",
       "      <td>...</td>\n",
       "    </tr>\n",
       "    <tr>\n",
       "      <th>18792</th>\n",
       "      <td>01/19/2014 20:37</td>\n",
       "      <td>18</td>\n",
       "      <td>36.062023</td>\n",
       "      <td>24.898618</td>\n",
       "      <td>01/19/2014</td>\n",
       "    </tr>\n",
       "    <tr>\n",
       "      <th>18793</th>\n",
       "      <td>01/19/2014 20:37</td>\n",
       "      <td>24</td>\n",
       "      <td>36.059945</td>\n",
       "      <td>24.899694</td>\n",
       "      <td>01/19/2014</td>\n",
       "    </tr>\n",
       "    <tr>\n",
       "      <th>18794</th>\n",
       "      <td>01/19/2014 20:38</td>\n",
       "      <td>18</td>\n",
       "      <td>36.063314</td>\n",
       "      <td>24.896112</td>\n",
       "      <td>01/19/2014</td>\n",
       "    </tr>\n",
       "    <tr>\n",
       "      <th>18795</th>\n",
       "      <td>01/19/2014 20:38</td>\n",
       "      <td>24</td>\n",
       "      <td>36.061793</td>\n",
       "      <td>24.898635</td>\n",
       "      <td>01/19/2014</td>\n",
       "    </tr>\n",
       "    <tr>\n",
       "      <th>18796</th>\n",
       "      <td>01/19/2014 20:56</td>\n",
       "      <td>30</td>\n",
       "      <td>36.057235</td>\n",
       "      <td>24.902205</td>\n",
       "      <td>01/19/2014</td>\n",
       "    </tr>\n",
       "  </tbody>\n",
       "</table>\n",
       "<p>18797 rows × 5 columns</p>\n",
       "</div>"
      ],
      "text/plain": [
       "              Timestamp  id        lat       long        date\n",
       "0      01/06/2014 06:28  35  36.074791  24.873310  01/06/2014\n",
       "1      01/06/2014 06:29  35  36.071204  24.871683  01/06/2014\n",
       "2      01/06/2014 06:30  35  36.067808  24.872183  01/06/2014\n",
       "3      01/06/2014 06:33   4  36.076730  24.870998  01/06/2014\n",
       "4      01/06/2014 06:33  35  36.067537  24.873311  01/06/2014\n",
       "...                 ...  ..        ...        ...         ...\n",
       "18792  01/19/2014 20:37  18  36.062023  24.898618  01/19/2014\n",
       "18793  01/19/2014 20:37  24  36.059945  24.899694  01/19/2014\n",
       "18794  01/19/2014 20:38  18  36.063314  24.896112  01/19/2014\n",
       "18795  01/19/2014 20:38  24  36.061793  24.898635  01/19/2014\n",
       "18796  01/19/2014 20:56  30  36.057235  24.902205  01/19/2014\n",
       "\n",
       "[18797 rows x 5 columns]"
      ]
     },
     "execution_count": 24,
     "metadata": {},
     "output_type": "execute_result"
    }
   ],
   "source": [
    "locations_by_minute"
   ]
  },
  {
   "cell_type": "code",
   "execution_count": 25,
   "id": "63d6f0f9",
   "metadata": {},
   "outputs": [],
   "source": [
    "locations_by_minute.to_csv(\"../data/locations_by_minute.csv\")"
   ]
  },
  {
   "cell_type": "code",
   "execution_count": null,
   "id": "dfe26a5b",
   "metadata": {},
   "outputs": [],
   "source": []
  },
  {
   "cell_type": "code",
   "execution_count": null,
   "id": "0bd7bc89",
   "metadata": {},
   "outputs": [],
   "source": []
  }
 ],
 "metadata": {
  "kernelspec": {
   "display_name": "ipy-jupyter-venv3.9",
   "language": "python",
   "name": "myipy_jupter_env3.9"
  },
  "language_info": {
   "codemirror_mode": {
    "name": "ipython",
    "version": 3
   },
   "file_extension": ".py",
   "mimetype": "text/x-python",
   "name": "python",
   "nbconvert_exporter": "python",
   "pygments_lexer": "ipython3",
   "version": "3.9.7"
  }
 },
 "nbformat": 4,
 "nbformat_minor": 5
}
