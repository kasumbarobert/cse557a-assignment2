{
 "cells": [
  {
   "cell_type": "code",
   "execution_count": 1,
   "metadata": {},
   "outputs": [],
   "source": [
    "import pandas as pd\n",
    "import re\n",
    "ogccdf = pd.read_csv(\"cc_data.csv\", encoding='cp1252')\n",
    "ogloyaltydf = pd.read_csv(\"loyalty_data.csv\", encoding='cp1252')"
   ]
  },
  {
   "cell_type": "code",
   "execution_count": 2,
   "metadata": {},
   "outputs": [
    {
     "data": {
      "text/plain": [
       "Index(['timestamp', 'location', 'price', 'FirstName', 'LastName'], dtype='object')"
      ]
     },
     "execution_count": 2,
     "metadata": {},
     "output_type": "execute_result"
    }
   ],
   "source": [
    "ogloyaltydf.columns"
   ]
  },
  {
   "cell_type": "code",
   "execution_count": 3,
   "metadata": {
    "scrolled": true
   },
   "outputs": [],
   "source": [
    "ccdf = ogccdf\n",
    "ccdf[\"date\"] = ccdf[\"timestamp\"].str.split().str[0]\n",
    "ccdf[\"date\"]\n",
    "dates = ccdf[\"date\"].unique()\n",
    "loyalty_dates = ogloyaltydf[\"timestamp\"].unique()"
   ]
  },
  {
   "cell_type": "code",
   "execution_count": 4,
   "metadata": {},
   "outputs": [],
   "source": [
    "ccdf = ccdf.drop(columns=[\"timestamp\"])"
   ]
  },
  {
   "cell_type": "code",
   "execution_count": 5,
   "metadata": {},
   "outputs": [],
   "source": [
    "df_list = []\n",
    "\n",
    "for date in dates:\n",
    "    df = ccdf.loc[ccdf[\"date\"] == date]\n",
    "    df = df.sort_values(by=[\"location\"])\n",
    "    \n",
    "    df[\"revenue\"] = df[\"price\"]\n",
    "    df[\"freq\"] = df[\"price\"]\n",
    "    businesses = df[\"location\"].unique()\n",
    "\n",
    "    for business in businesses:\n",
    "        businessdf = df.loc[df[\"location\"] == business]\n",
    "        freq = len(businessdf)\n",
    "        rev = businessdf['price'].sum()\n",
    "        df.loc[df['location'] == business, 'revenue'] = rev\n",
    "        df.loc[df['location'] == business, 'freq'] = freq\n",
    "        df = df.sort_values(by=[\"revenue\"], ascending=False)\n",
    "        df = df.drop_duplicates(subset=['location'], keep='first')\n",
    "#         print(df.columns)\n",
    "        \n",
    "    df = df.drop(columns=[\"price\", \"FirstName\", \"LastName\"])\n",
    "    df_list.append(df)\n",
    "    pathdate = date.replace(\"/\", \"-\")\n",
    "    path = \"cc_\" + pathdate + \".csv\"\n",
    "    df.to_csv(path)\n",
    "    \n",
    "# print(df_list)"
   ]
  },
  {
   "cell_type": "code",
   "execution_count": 6,
   "metadata": {},
   "outputs": [],
   "source": [
    "loyalty_dflist = []\n",
    "\n",
    "for date in loyalty_dates:\n",
    "    df = ogloyaltydf.loc[ogloyaltydf[\"timestamp\"] == date]\n",
    "    df = df.sort_values(by=[\"location\"])\n",
    "    \n",
    "    df[\"revenue\"] = df[\"price\"]\n",
    "    df[\"freq\"] = df[\"price\"]\n",
    "    businesses = df[\"location\"].unique()\n",
    "\n",
    "    for business in businesses:\n",
    "        businessdf = df.loc[df[\"location\"] == business]\n",
    "        freq = len(businessdf)\n",
    "        rev = businessdf['price'].sum()\n",
    "        df.loc[df['location'] == business, 'revenue'] = rev\n",
    "        df.loc[df['location'] == business, 'freq'] = freq\n",
    "        df = df.drop_duplicates(subset=['location'], keep='first')\n",
    "#         print(df.columns)\n",
    "        \n",
    "    df = df.drop(columns=[\"price\", \"FirstName\", \"LastName\"])\n",
    "    df_list.append(df)\n",
    "    pathdate = date.replace(\"/\", \"-\")\n",
    "    path = \"loyalty_\" + pathdate + \".csv\"\n",
    "    df.to_csv(path)\n",
    "    \n",
    "# print(df_list)"
   ]
  },
  {
   "cell_type": "code",
   "execution_count": 7,
   "metadata": {},
   "outputs": [],
   "source": [
    "# test = df_list[0]\n",
    "# test[\"revenue\"] = test[\"price\"]\n",
    "# test[\"freq\"] = test[\"price\"]\n",
    "# businesses = test[\"location\"].unique()\n",
    "\n",
    "# for business in businesses:\n",
    "#     businessdf = test.loc[test[\"location\"] == business]\n",
    "#     freq = len(businessdf)\n",
    "#     rev = businessdf['price'].sum()\n",
    "#     test.loc[test['location'] == business, 'revenue'] = rev\n",
    "#     test.loc[test['location'] == business, 'freq'] = freq\n",
    "    \n",
    "# test"
   ]
  }
 ],
 "metadata": {
  "kernelspec": {
   "display_name": "Python 3",
   "language": "python",
   "name": "python3"
  },
  "language_info": {
   "codemirror_mode": {
    "name": "ipython",
    "version": 3
   },
   "file_extension": ".py",
   "mimetype": "text/x-python",
   "name": "python",
   "nbconvert_exporter": "python",
   "pygments_lexer": "ipython3",
   "version": "3.8.5"
  }
 },
 "nbformat": 4,
 "nbformat_minor": 4
}
