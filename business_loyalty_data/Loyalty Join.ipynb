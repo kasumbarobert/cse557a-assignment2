{
 "cells": [
  {
   "cell_type": "code",
   "execution_count": 1,
   "metadata": {},
   "outputs": [],
   "source": [
    "import pandas as pd\n",
    "lo_main = pd.read_csv(\"LO_BiggestSpendersFinal.csv\")"
   ]
  },
  {
   "cell_type": "code",
   "execution_count": 40,
   "metadata": {},
   "outputs": [
    {
     "data": {
      "text/plain": [
       "array(['Abila Airport', 'Abila Scrapyard', 'Abila Zacharo',\n",
       "       'Ahaggo Museum', \"Albert's Fine Clothing\", 'Bean There Done That',\n",
       "       'Brewed Awakenings', \"Brew've Been Served\",\n",
       "       'Carlyle Chemical Inc.', 'Chostus Hotel', 'Coffee Cameleon',\n",
       "       'Coffee Shack', 'Desafio Golf Course', \"Frank's Fuel\",\n",
       "       \"Frydos Autosupply n' More\", 'Gelatogalore', 'General Grocer',\n",
       "       \"Guy's Gyros\", 'Hallowed Grounds', 'Hippokampos',\n",
       "       \"Jack's Magical Beans\", 'Kalami Kafenion', 'Katerina’s Café',\n",
       "       'Kronos Mart', 'Kronos Pipe and Irrigation',\n",
       "       'Maximum Iron and Steel', 'Nationwide Refinery',\n",
       "       \"Octavio's Office Supplies\", 'Ouzeri Elian', 'Roberts and Sons',\n",
       "       \"Shoppers' Delight\", 'Stewart and Sons Fabrication', 'U-Pump'],\n",
       "      dtype=object)"
      ]
     },
     "execution_count": 40,
     "metadata": {},
     "output_type": "execute_result"
    }
   ],
   "source": [
    "lo_main[\"location\"].unique()"
   ]
  },
  {
   "cell_type": "code",
   "execution_count": 63,
   "metadata": {},
   "outputs": [
    {
     "data": {
      "text/html": [
       "<div>\n",
       "<style scoped>\n",
       "    .dataframe tbody tr th:only-of-type {\n",
       "        vertical-align: middle;\n",
       "    }\n",
       "\n",
       "    .dataframe tbody tr th {\n",
       "        vertical-align: top;\n",
       "    }\n",
       "\n",
       "    .dataframe thead th {\n",
       "        text-align: right;\n",
       "    }\n",
       "</style>\n",
       "<table border=\"1\" class=\"dataframe\">\n",
       "  <thead>\n",
       "    <tr style=\"text-align: right;\">\n",
       "      <th></th>\n",
       "      <th>date</th>\n",
       "      <th>revenue</th>\n",
       "      <th>location</th>\n",
       "      <th>price</th>\n",
       "      <th>FirstName</th>\n",
       "      <th>LastName</th>\n",
       "      <th>CurrentEmploymentType</th>\n",
       "      <th>CurrentEmploymentTitle</th>\n",
       "    </tr>\n",
       "  </thead>\n",
       "  <tbody>\n",
       "    <tr>\n",
       "      <th>22</th>\n",
       "      <td>1/6/2014</td>\n",
       "      <td>59.51</td>\n",
       "      <td>U-Pump</td>\n",
       "      <td>59.51</td>\n",
       "      <td>Varja</td>\n",
       "      <td>Lagos</td>\n",
       "      <td>Security</td>\n",
       "      <td>Badging Office</td>\n",
       "    </tr>\n",
       "  </tbody>\n",
       "</table>\n",
       "</div>"
      ],
      "text/plain": [
       "        date  revenue location  price FirstName LastName  \\\n",
       "22  1/6/2014    59.51   U-Pump  59.51     Varja    Lagos   \n",
       "\n",
       "   CurrentEmploymentType CurrentEmploymentTitle  \n",
       "22              Security         Badging Office  "
      ]
     },
     "execution_count": 63,
     "metadata": {},
     "output_type": "execute_result"
    }
   ],
   "source": [
    "# pick csv\n",
    "# join \n",
    "# check\n",
    "# rewrite\n",
    "name = \"agglo_U-Pump.csv\"\n",
    "targetdf = pd.read_csv(name)\n",
    "targetdf = pd.merge(targetdf, lo_main,  how='left', left_on=['date'], right_on=['date'])\n",
    "targetdf = targetdf.drop(columns=[\"Unnamed: 0_x\", \"Unnamed: 0_y\"])\n",
    "targetdf = targetdf.loc[targetdf[\"location\"] == \"U-Pump\"]\n",
    "targetdf\n",
    "targetdf.drop(columns=[\"location\"])\n",
    "targetdf.to_csv(name)\n",
    "targetdf\n",
    "#print(targetdf.columns)"
   ]
  },
  {
   "cell_type": "code",
   "execution_count": 30,
   "metadata": {},
   "outputs": [],
   "source": [
    "dates = ['1/6/2014', '1/7/2014', '1/8/2014', '1/9/2014', '1/10/2014',\n",
    "       '1/11/2014', '1/12/2014', '1/13/2014', '1/14/2014', '1/15/2014',\n",
    "       '1/16/2014', '1/17/2014', '1/18/2014', '1/19/2014']"
   ]
  },
  {
   "cell_type": "code",
   "execution_count": 31,
   "metadata": {
    "collapsed": true
   },
   "outputs": [
    {
     "data": {
      "text/plain": [
       "['1/6/2014',\n",
       " '1/7/2014',\n",
       " '1/8/2014',\n",
       " '1/9/2014',\n",
       " '1/10/2014',\n",
       " '1/11/2014',\n",
       " '1/12/2014',\n",
       " '1/13/2014',\n",
       " '1/14/2014',\n",
       " '1/15/2014',\n",
       " '1/16/2014',\n",
       " '1/17/2014',\n",
       " '1/18/2014',\n",
       " '1/19/2014']"
      ]
     },
     "execution_count": 31,
     "metadata": {},
     "output_type": "execute_result"
    }
   ],
   "source": [
    "dates"
   ]
  }
 ],
 "metadata": {
  "kernelspec": {
   "display_name": "Python 3",
   "language": "python",
   "name": "python3"
  },
  "language_info": {
   "codemirror_mode": {
    "name": "ipython",
    "version": 3
   },
   "file_extension": ".py",
   "mimetype": "text/x-python",
   "name": "python",
   "nbconvert_exporter": "python",
   "pygments_lexer": "ipython3",
   "version": "3.8.5"
  }
 },
 "nbformat": 4,
 "nbformat_minor": 4
}
